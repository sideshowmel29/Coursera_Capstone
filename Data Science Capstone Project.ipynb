{
    "cells": [
        {
            "cell_type": "markdown",
            "metadata": {
                "collapsed": true
            },
            "source": "<b><h1>Battle of the Neighborhoods Capstone Project</h1></b>"
        },
        {
            "cell_type": "markdown",
            "metadata": {},
            "source": "<h2>Introduction</h2>\n<br>\nAn entrepreneur is interested in opening a new Filipino restaurant in the most ethnically diverse city in the United States, New York City. He/She has reached out for help to identify the best borough and neighborhood with high interest in Filipino cuisine. It would also be beneficial to learn about the potential competitors and see where most New Yorkers go to satisfy their Filipino food cravings. The main objective of the project is to learn more about the characteristics of the different boroughs and neighborhoods of New York city, and to figure out the best neighborhood to open a Filipino restaurant that can provide the best chance for success."
        },
        {
            "cell_type": "markdown",
            "metadata": {},
            "source": "<h2>Problem Statements</h2>\n<ol>\n    <li>What location(s) in New York City best serve Filipino cuisines?</li>\n    <li>Where do most New Yorkers go to have the best Filipino food in the city?</li>\n    <li>In what Borough and Neighborhood should the entrepreneur open his/her Filipino restaurant for best chance of success?</li>\n</ol>"
        },
        {
            "cell_type": "markdown",
            "metadata": {},
            "source": "<h2>Data</h2>\n<br>\nNew York City has a total of 5 boroughs and 306 neighborhoods. To address the problem statements, data on New York City boroughs and neighborhoods with boundaries, latitude, longitude, restaurants, and restaurant ratings and tips are required. NYC geographic information can be obtained from NYU's dataset: <a href>https://geo.nyu.edu/catalog/nyu_2451_34572</a>\n<p>\nLocation data, reviews, and quality of existing Filipino restaurants will be obtained via the FourSquare API utilized via the Request library in Python.</p>"
        },
        {
            "cell_type": "markdown",
            "metadata": {},
            "source": "<h2>Methodology</h2>\n<br>\n   <li>New York City geographic data will be collected from <a href>https://geo.nyu.edu/catalog/nyu_2451_34572</a>.</li>\n   <li>FourSquare will be used to locate all Filipino restaurants with ratings, tips, and likes by users.</li>\n   <li>All necessary data will be cleaned, sorted by rankings, and processed into a dataframe.</li>\n   <li>The information will be visually mapped using graphing from Python libraries.</li>"
        },
        {
            "cell_type": "markdown",
            "metadata": {},
            "source": "<h2>Import Necessary Libraries</h2>"
        },
        {
            "cell_type": "code",
            "execution_count": null,
            "metadata": {},
            "outputs": [],
            "source": "!pip install numpy\n!pip install matplotlib\n\nimport numpy as np # library to handle data in a vectorized manner\n\nimport pandas as pd # library for data analsysis\npd.set_option('display.max_columns', None)\npd.set_option('display.max_rows', None)\n\nimport requests # library to handle requests\n\n#from bs4 import BeautifulSoup\nimport os\n\n!conda install -c conda-forge folium=0.5.0 --yes\nimport folium # map rendering library\n\n#!conda install -c conda-forge geopy --yes\nfrom geopy.geocoders import Nominatim # convert an address into latitude and longitude values\nimport requests # library to handle requests\n\n# Matplotlib and associated plotting modules\nimport matplotlib.pyplot as plt\nimport matplotlib.cm as cm\nimport matplotlib.colors as colors\n%matplotlib inline\n\nimport seaborn as sns\n\nprint('Libraries imported.')"
        },
        {
            "cell_type": "markdown",
            "metadata": {},
            "source": "<h2>New York City Dataset Preparation</h2>\n<p>New York City has a total of 5 boroughs and 306 neighborhoods. To segment the neighborhoods and explore them, the dataset will need to be downloaded from <a href> https://geo.nyu.edu/catalog/nyu_2451_34572</a>  and placed into a server. The data will then be accessed through a defined function called \"get_nyc_data.\"</p>"
        },
        {
            "cell_type": "code",
            "execution_count": null,
            "metadata": {},
            "outputs": [],
            "source": "def get_nyc_data():\n    url='https://cocl.us/new_york_dataset'\n    resp=requests.get(url).json()\n    # all data is present in features label\n    features=resp['features']\n    # define the dataframe columns\n    column_names = ['Borough', 'Neighborhood', 'Latitude', 'Longitude'] \n    # instantiate the dataframe\n    nyc_data = pd.DataFrame(columns=column_names)\n    for data in features:\n        borough = data['properties']['borough'] \n        neighborhood_name = data['properties']['name']\n        neighborhood_latlon = data['geometry']['coordinates']\n        neighborhood_lat = neighborhood_latlon[1]\n        neighborhood_lon = neighborhood_latlon[0]\n        nyc_data = nyc_data.append({'Borough': borough,\n                                          'Neighborhood': neighborhood_name,\n                                          'Latitude': neighborhood_lat,\n                                          'Longitude': neighborhood_lon}, ignore_index=True)\n    return nyc_data"
        },
        {
            "cell_type": "code",
            "execution_count": null,
            "metadata": {},
            "outputs": [],
            "source": "ny_data = get_nyc_data()\nny_data.head()"
        },
        {
            "cell_type": "code",
            "execution_count": null,
            "metadata": {},
            "outputs": [],
            "source": "ny_data.shape"
        },
        {
            "cell_type": "markdown",
            "metadata": {},
            "source": "<h2>Explore New York City Dataset</h2>\n<h3>Total Neighborhoods Per Borough</h3>"
        },
        {
            "cell_type": "code",
            "execution_count": null,
            "metadata": {},
            "outputs": [],
            "source": "clr = \"green\"\nny_data.groupby('Borough')['Neighborhood'].count().plot.bar(figsize=(10,5), color=clr)\nplt.title('Neighborhoods per Borough', fontsize = 20)\nplt.xlabel('Borough', fontsize = 15)\nplt.ylabel('Total Neighborhoods',fontsize = 15)\nplt.xticks(rotation = 'horizontal')\nplt.legend()\nplt.show()"
        },
        {
            "cell_type": "code",
            "execution_count": null,
            "metadata": {},
            "outputs": [],
            "source": ""
        }
    ],
    "metadata": {
        "kernelspec": {
            "display_name": "Python 3.7",
            "language": "python",
            "name": "python3"
        },
        "language_info": {
            "codemirror_mode": {
                "name": "ipython",
                "version": 3
            },
            "file_extension": ".py",
            "mimetype": "text/x-python",
            "name": "python",
            "nbconvert_exporter": "python",
            "pygments_lexer": "ipython3",
            "version": "3.7.10"
        }
    },
    "nbformat": 4,
    "nbformat_minor": 1
}