{
    "cells": [
        {
            "cell_type": "markdown",
            "metadata": {
                "collapsed": true
            },
            "source": "<b><h1>Battle of the Neighborhoods Capstone Project</h1></b>"
        },
        {
            "cell_type": "markdown",
            "metadata": {},
            "source": "<h2>Introduction</h2>\n<br>\nAn entrepreneur is interested in opening a new Filipino restaurant in the most ethnically diverse city in the United States, New York City. He/She has reached out for help to identify the best borough and neighborhood with high interest in Filipino cuisine. It would also be beneficial to learn about the potential competitors and see where most New Yorkers go to satisfy their Filipino food cravings. The main objective of the project is to learn more about the characteristics of the different boroughs and neighborhoods of New York city, and to figure out the best neighborhood to open a Filipino restaurant that can provide the best chance for success."
        },
        {
            "cell_type": "markdown",
            "metadata": {},
            "source": "<h2>Problem Statements</h2>\n<ol>\n    <li>What location(s) in New York City best serve Filipino cuisines?</li>\n    <li>Where do most New Yorkers go to have the best Filipino food in the city?</li>\n    <li>In what Borough and Neighborhood should the entrepreneur open his/her Filipino restaurant for best chance of success?</li>\n</ol>"
        },
        {
            "cell_type": "markdown",
            "metadata": {},
            "source": "<h2>Data</h2>\n<br>\nNew York City has a total of 5 boroughs and 306 neighborhoods. To address the problem statements, data on New York City boroughs and neighborhoods with boundaries, latitude, longitude, restaurants, and restaurant ratings and tips are required. NYC geographic information can be obtained from NYU's dataset: <a href>https://geo.nyu.edu/catalog/nyu_2451_34572</a>\n<p>\nLocation data, reviews, and quality of existing Filipino restaurants will be obtained via the FourSquare API utilized via the Request library in Python.</p>"
        },
        {
            "cell_type": "code",
            "execution_count": null,
            "metadata": {},
            "outputs": [],
            "source": ""
        }
    ],
    "metadata": {
        "kernelspec": {
            "display_name": "Python 3.7",
            "language": "python",
            "name": "python3"
        },
        "language_info": {
            "codemirror_mode": {
                "name": "ipython",
                "version": 3
            },
            "file_extension": ".py",
            "mimetype": "text/x-python",
            "name": "python",
            "nbconvert_exporter": "python",
            "pygments_lexer": "ipython3",
            "version": "3.7.10"
        }
    },
    "nbformat": 4,
    "nbformat_minor": 1
}